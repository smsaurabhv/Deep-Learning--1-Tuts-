{
 "cells": [
  {
   "cell_type": "markdown",
   "metadata": {},
   "source": [
    "### McCulloch Pitts Neurons\n",
    "\n",
    "\n",
    "The early model of an artificial neuron is introduced by Warren McCulloch and Walter Pitts in 1943. The McCulloch-Pitts neural model is also known as linear threshold gate. It is a neuron of a set of inputs  $ I_1, I_2, I_3, ..., I_m $ and one output  $ y\n",
    "$. The linear threshold gate simply classifies the set of inputs into two different classes. Thus the output  $ y\n",
    "$ is binary. Such a function can be described mathematically using these equations:\n",
    "\n",
    "<img src=\"http://wwwold.ece.utep.edu/research/webfuzzy/docs/kk-thesis/kk-thesis-html/img18.gif\">\n",
    "\n",
    "\n",
    "McCulloch pitts neurons is a threshold logic functions thats aggregates the inputs from various sources . and take decision based on thresolds functions or step functions"
   ]
  },
  {
   "cell_type": "code",
   "execution_count": 58,
   "metadata": {},
   "outputs": [],
   "source": [
    "#plotting steps functions\n",
    "import numpy as np"
   ]
  },
  {
   "cell_type": "code",
   "execution_count": 59,
   "metadata": {},
   "outputs": [],
   "source": [
    "#genearates values \n",
    "X_values = [i/10 for i in range(-100,100)]\n",
    "def Stepfunctions(X,theta):\n",
    "    y_val =[]\n",
    "    for i in X:\n",
    "        if i>theta:\n",
    "            y_val.append(1)\n",
    "        else:\n",
    "            y_val.append(0)\n",
    "    return y_val"
   ]
  },
  {
   "cell_type": "code",
   "execution_count": 60,
   "metadata": {},
   "outputs": [
    {
     "data": {
      "text/plain": [
       "[<matplotlib.lines.Line2D at 0x1c94ce3d9b0>]"
      ]
     },
     "execution_count": 60,
     "metadata": {},
     "output_type": "execute_result"
    },
    {
     "data": {
      "image/png": "[encoded data removed]",
      "text/plain": [
       "<matplotlib.figure.Figure at 0x1c94b830940>"
      ]
     },
     "metadata": {},
     "output_type": "display_data"
    }
   ],
   "source": [
    "%matplotlib inline\n",
    "import matplotlib.pyplot as plt\n",
    "plt.plot(X_values,Stepfunctions(X_values,5))"
   ]
  },
  {
   "cell_type": "code",
   "execution_count": 37,
   "metadata": {},
   "outputs": [
    {
     "data": {
      "text/plain": [
       "[<matplotlib.lines.Line2D at 0x1c94b967a20>]"
      ]
     },
     "execution_count": 37,
     "metadata": {},
     "output_type": "execute_result"
    },
    {
     "data": {
      "image/png": "[encoded data removed]",
      "text/plain": [
       "<matplotlib.figure.Figure at 0x1c94b8e1b38>"
      ]
     },
     "metadata": {},
     "output_type": "display_data"
    }
   ],
   "source": [
    "plt.plot(X_values,Stepfunctions(X_values,1))"
   ]
  },
  {
   "cell_type": "code",
   "execution_count": 38,
   "metadata": {},
   "outputs": [
    {
     "data": {
      "text/plain": [
       "[<matplotlib.lines.Line2D at 0x1c94c9d5c50>]"
      ]
     },
     "execution_count": 38,
     "metadata": {},
     "output_type": "execute_result"
    },
    {
     "data": {
      "image/png": "[encoded data removed]",
      "text/plain": [
       "<matplotlib.figure.Figure at 0x1c94b985160>"
      ]
     },
     "metadata": {},
     "output_type": "display_data"
    }
   ],
   "source": [
    "plt.plot(X_values,Stepfunctions(X_values,-1))"
   ]
  },
  {
   "cell_type": "code",
   "execution_count": 39,
   "metadata": {},
   "outputs": [
    {
     "data": {
      "text/plain": [
       "[<matplotlib.lines.Line2D at 0x1c94ca74cf8>]"
      ]
     },
     "execution_count": 39,
     "metadata": {},
     "output_type": "execute_result"
    },
    {
     "data": {
      "image/png": "[encoded data removed]",
      "text/plain": [
       "<matplotlib.figure.Figure at 0x1c94c9eef60>"
      ]
     },
     "metadata": {},
     "output_type": "display_data"
    }
   ],
   "source": [
    "plt.plot(X_values,Stepfunctions(X_values,10))"
   ]
  },
  {
   "cell_type": "code",
   "execution_count": 40,
   "metadata": {},
   "outputs": [],
   "source": [
    "#geneate X values\n",
    "\n",
    "X_values = np.array([[i/10,i/20] for i in range(-100,100)])"
   ]
  },
  {
   "cell_type": "code",
   "execution_count": 48,
   "metadata": {},
   "outputs": [],
   "source": [
    "def McCullochPitts(X_val,theta):\n",
    "    sumof = np.sum(X_values,axis=1)\n",
    "    print(Stepfunctions(np.asarray(sumof),theta))\n",
    "    return Stepfunctions(np.asarray(sumof),theta)"
   ]
  },
  {
   "cell_type": "code",
   "execution_count": 50,
   "metadata": {},
   "outputs": [
    {
     "name": "stdout",
     "output_type": "stream",
     "text": [
      "[0, 0, 0, 0, 0, 0, 0, 0, 0, 0, 0, 0, 0, 0, 0, 0, 0, 0, 0, 0, 0, 0, 0, 0, 0, 0, 0, 0, 0, 0, 0, 0, 0, 0, 0, 0, 0, 0, 0, 0, 0, 0, 0, 0, 0, 0, 0, 0, 0, 0, 0, 0, 0, 0, 0, 0, 0, 0, 0, 0, 0, 0, 0, 0, 0, 0, 0, 0, 0, 0, 0, 0, 0, 0, 0, 0, 0, 0, 0, 0, 0, 0, 0, 0, 0, 0, 0, 0, 0, 0, 0, 0, 0, 0, 0, 0, 0, 0, 0, 0, 0, 0, 0, 0, 0, 0, 0, 0, 0, 0, 0, 0, 0, 0, 1, 1, 1, 1, 1, 1, 1, 1, 1, 1, 1, 1, 1, 1, 1, 1, 1, 1, 1, 1, 1, 1, 1, 1, 1, 1, 1, 1, 1, 1, 1, 1, 1, 1, 1, 1, 1, 1, 1, 1, 1, 1, 1, 1, 1, 1, 1, 1, 1, 1, 1, 1, 1, 1, 1, 1, 1, 1, 1, 1, 1, 1, 1, 1, 1, 1, 1, 1, 1, 1, 1, 1, 1, 1, 1, 1, 1, 1, 1, 1, 1, 1, 1, 1, 1, 1]\n"
     ]
    },
    {
     "data": {
      "text/plain": [
       "[<matplotlib.lines.Line2D at 0x1c94cda2390>]"
      ]
     },
     "execution_count": 50,
     "metadata": {},
     "output_type": "execute_result"
    },
    {
     "data": {
      "image/png": "[encoded data removed]",
      "text/plain": [
       "<matplotlib.figure.Figure at 0x1c94cbfe550>"
      ]
     },
     "metadata": {},
     "output_type": "display_data"
    }
   ],
   "source": [
    "plt.plot(np.sum(X_values,axis=1),McCullochPitts(X_values,2))"
   ]
  },
  {
   "cell_type": "markdown",
   "metadata": {},
   "source": [
    "#### but in this simplified model the thresold values is hardcoded but in many applications there are different big datasets where the find the best posssible thresolding value is not possible"
   ]
  },
  {
   "cell_type": "code",
   "execution_count": 51,
   "metadata": {},
   "outputs": [],
   "source": [
    "# some boolean functions implement by Mcculloch pitts neurons"
   ]
  },
  {
   "cell_type": "code",
   "execution_count": 53,
   "metadata": {},
   "outputs": [],
   "source": [
    "#And\n",
    "X_values = np.array([[0,1,0],[1,0,0],[0,0,0],[1,1,1]])\n",
    "#so for X_values there are 2 features vector containing two binary values of and functions . if both are \n",
    "# 1's the neurons fire . so the AND logical gate by Mcculloch pits neurons are\n",
    "def Andfunc(x1,x2):\n",
    "    thresold=2\n",
    "    if x1+x2>=2:\n",
    "        return 1\n",
    "    else:\n",
    "        return 0"
   ]
  },
  {
   "cell_type": "code",
   "execution_count": 55,
   "metadata": {},
   "outputs": [
    {
     "name": "stdout",
     "output_type": "stream",
     "text": [
      "0\n",
      "0\n",
      "0\n",
      "1\n"
     ]
    }
   ],
   "source": [
    "print(Andfunc(0,0))\n",
    "print(Andfunc(1,0))\n",
    "print(Andfunc(0,1))\n",
    "print(Andfunc(1,1))"
   ]
  },
  {
   "cell_type": "code",
   "execution_count": 56,
   "metadata": {},
   "outputs": [],
   "source": [
    "#or\n",
    "X_values = np.array([[0,1,1],[1,0,1],[0,0,0],[1,1,1]])\n",
    "#so for X_values there are 2 features vector containing two binary values of and functions . if both are \n",
    "# 1's the neurons fire . so the AND logical gate by Mcculloch pits neurons are\n",
    "def Orfunc(x1,x2):\n",
    "    thresold=1\n",
    "    if x1+x2>=thresold:\n",
    "        return 1\n",
    "    else:\n",
    "        return 0"
   ]
  },
  {
   "cell_type": "code",
   "execution_count": 57,
   "metadata": {},
   "outputs": [
    {
     "name": "stdout",
     "output_type": "stream",
     "text": [
      "0\n",
      "1\n",
      "1\n",
      "1\n"
     ]
    }
   ],
   "source": [
    "print(Orfunc(0,0))\n",
    "print(Orfunc(1,0))\n",
    "print(Orfunc(0,1))\n",
    "print(Orfunc(1,1))"
   ]
  },
  {
   "cell_type": "markdown",
   "metadata": {},
   "source": [
    "### Linear Seperabilty:\n",
    "There exists a plane such that all inputs which produce 1 lies at one sides of the plane and all outputing zeros lies on other sides of the planes"
   ]
  },
  {
   "cell_type": "markdown",
   "metadata": {},
   "source": [
    "### Limitation of Mcculloch pitts neurons\n",
    "\n",
    " - Its opeating on binary data - X {0,1} only restricted to two decret values\n",
    " - weights thats use to form a decision boundary not learned by itself means not any learning algorthims\n",
    " - its learns only simple functions . not very complex functions\n",
    " - no non linear decision boudary draw from this Thresolding unit"
   ]
  },
  {
   "cell_type": "markdown",
   "metadata": {},
   "source": [
    "#### Perceptron Linear Model\n",
    "<img src=\"https://cdn-images-1.medium.com/max/1600/1*n9_4oGTvkmve9ZM07kkQXw.png\">\n",
    "\n",
    "***\n",
    "In machine learning, the perceptron is an algorithm for supervised learning of binary classifiers (functions that can decide whether an input, represented by a vector of numbers, belongs to some specific class or not).\n",
    "***\n",
    "\n"
   ]
  },
  {
   "cell_type": "markdown",
   "metadata": {},
   "source": [
    "Here Summer function will be\n",
    "<center>$$\\sum_{i=1}^{n} x_iw_i+b$$</center>\n",
    "\n",
    "Then to compare to the thresolding value\n",
    "\n",
    "the advantages of this liear model is this that the thresolding value of step functions are not hardcoded by as a suitable assupmtion . the thresolding value learned by the **Perceptron learning algorithims**\n",
    "\n",
    "the perceptron perform on  binary or real numbers. but the decision boudary not be hardcoded .its learns weights from learning algorithims . \n",
    "\n",
    "assumes that Lets assum there will be two classes *class 1 * or *class 2*\n",
    "<center>\n",
    "    $$Y =1 ; \\sum_{i=1}^{n} w_i.x_i >= \\theta $$ \n",
    "    </center>\n",
    "    <center>\n",
    "    $$Y =0 ; \\sum_{i=1}^{n} w_i.x_i < \\theta $$ \n",
    "    </center>\n",
    "\n",
    "Rewrite this equations\n",
    "\n",
    "<center>$$Y=1 ;\\sum_{i=1}^{n} w_i.x_i-\\theta >= 0 $$</center>\n",
    "<center>$$Y=0 ;\\sum_{i=1}^{n} w_i.x_i-\\theta < 0 $$</center>\n",
    "\n",
    "Rewrite this equations in more compact more\n",
    "\n",
    "<center>$$Y=1 ;\\sum_{i=0}^{n} w_i.x_i >= 0 $$</center>\n",
    "<br>\n",
    "\n",
    "<center>$$Y=0 ;\\sum_{i=0}^{n} w_i.x_i < 0 $$</center>\n",
    "<br>\n",
    "<center>$$but;w_0=-\\theta;x_0=1$$</center>\n",
    "\n",
    "w0 is called the bias as its presebt the prior\n",
    "\n",
    "\n",
    "a single perceptron can only be used to implement a linearly seprable functions\n",
    "\n",
    "\n",
    "the diffrence betwwen perceptron and McCulloch Pitts . the weights (including thresold ) can be learned and input can be a real numbers\n",
    "\n",
    "\n",
    "consider the xor functions .what be a thresold for this functions.\n",
    "\n",
    "| X1        | X2           | XOR  |\n",
    "| ------------- |:-------------:| -----:|\n",
    "| 0     |0 |0 |\n",
    "| 1     | 0    |  1 |\n",
    "| 0 | 1     |    1 |\n",
    "| 1 | 1     |    0 |\n",
    "\n",
    "\n",
    "$$1;w_0 + \\sum_{i=1}{n} w_ix_i <=0$$\n",
    "$$2;w_0 + \\sum_{i=1}{n} w_ix_i >=1$$\n",
    "$$3;w_0 + \\sum_{i=1}{n} w_ix_i >=1$$\n",
    "$$4;w_0 + \\sum_{i=1}{n} w_ix_i >=2$$\n",
    "\n",
    "Rewrite this equations\n",
    "\n",
    "\n",
    "\n",
    "$$1;w_0 <=0$$\n",
    "$$2;w_0 + w_1 >=1$$\n",
    "$$3;w_0 +w_2 >=1$$\n",
    "$$4;w_0 +w_1+w_2 >=2$$\n",
    "\n",
    "\n",
    "so the value may be equal to $$w_0 =-1;w_1 = 1.1;w_2=1.1$$\n",
    "\n",
    "but this weights only draw a linear planes\n",
    "\n",
    "so this is not linear sperable problem . means not draw a linear decision boudary on top of plane consisting these data\n"
   ]
  },
  {
   "cell_type": "code",
   "execution_count": 68,
   "metadata": {},
   "outputs": [
    {
     "data": {
      "text/plain": [
       "[<matplotlib.lines.Line2D at 0x1c94d32bb00>]"
      ]
     },
     "execution_count": 68,
     "metadata": {},
     "output_type": "execute_result"
    },
    {
     "data": {
      "image/png": "[encoded data removed]",
      "text/plain": [
       "<matplotlib.figure.Figure at 0x1c94d227940>"
      ]
     },
     "metadata": {},
     "output_type": "display_data"
    }
   ],
   "source": [
    "plt.scatter(0,0)\n",
    "plt.scatter(0,1)\n",
    "plt.scatter(1,0)\n",
    "plt.scatter(1,1)\n",
    "plt.plot([x/100 for x in range(10,100)],[-1+1.1*x/100+1.1*x/100 for x in range(10,100)])"
   ]
  },
  {
   "cell_type": "markdown",
   "metadata": {},
   "source": [
    "### Perceptron Learning Algorithims\n",
    "\n",
    "1 . p <- inputs with label 1\n",
    "\n",
    "2 . N <- inputs with labels 0 \n",
    "\n",
    "3 . initializes weight vector w (w1,w2,w3,w4,w5,w6)\n",
    "\n",
    "4 . while !convergence do\n",
    "\n",
    "5.    pick random x belongs to p U N\n",
    "\n",
    "6.    if x belongs to P and \n",
    "        $$\\sum_{i=0}^{n} w_i x_i < 0$$\n",
    "        \n",
    "7.    w =w+x\n",
    "\n",
    "8.    end\n",
    "\n",
    "9.    if x belongs to N and\n",
    "        $$\\sum_{i=0}^{n} w_i x_i > 0$$\n",
    "\n",
    "10.   w=w-x\n",
    "\n",
    "11.  end"
   ]
  },
  {
   "cell_type": "markdown",
   "metadata": {},
   "source": [
    "#### Proof of this Perceptron Algorithims\n",
    "\n",
    "<center>$$weight;w=[w_0,w_1,w_2....w_n]$$</center>\n",
    "<br>\n",
    "<center>$$X;x=[1,x_1,x_2....x_n]$$</center>\n",
    "<br>\n",
    "<center>dot product $ ;W.X=W^{T}X=[1,x_1,x_2....x_n]$ </center>\n",
    "<br>\n",
    "<center>$$y=1;if;W^{T}X>=0$$</center>\n",
    "<br>\n",
    "<center>$$y=0;if;W^{T}X<=0$$</center>\n",
    "\n",
    "so we are interesting in finding the line $ W^{T}X = 0 $ so the the line divides the input two halves every points to either two sides of the planes this lines plot a linear decision boundaries between two class\n",
    "\n",
    "consider a vector point as X and W so that by that equations $ W^{T}X >= 0 $ and by the following equation . the angle betwwen the weight vector W and X is given by this equations\n",
    "\n",
    "$$ cos(\\alpha) = \\dfrac{W^{T}X}{||W|| ||x||}$$\n",
    "\n",
    "where ||w|| and ||x|| is positive quantity . and the equations only depends upon $ W^{T}X $\n",
    "\n",
    "so for a positive points P $ W^{T}X > 0 $ so $ cos(\\alpha) > 0 $ so $ \\alpha $ will be less than 90 thats fine\n",
    "\n",
    "so for a positive points N $ W^{T}X < 0 $ so $ cos(\\alpha) < 0 $ so $ \\alpha $ will be greater than 90 thats fine"
   ]
  },
  {
   "cell_type": "markdown",
   "metadata": {},
   "source": [
    "#### from the perceptron learning algorithims\n",
    "\n",
    "for x belongs to positive class P $ w.x < 0 $ then its means the angle $ \\alpha $ between this x are the case w is greater than 90 but want to be less than 90 so\n",
    "\n",
    "$$W_{new}  = w + x $$\n",
    "<br>\n",
    "$$cos({\\alpha_{new}})  = w_{new}^{T}x $$\n",
    "<br>\n",
    "$$ \\propto w_{new}^{T}x $$\n",
    "$$ \\propto (w+x)^{T}x $$\n",
    "$$ \\propto w^{T}x + x^{T}x$$\n",
    "$$ \\propto cos(\\alpha) + x^{T}x$$\n",
    "$$ cos(\\alpha_{new}) > cos(\\alpha)$$\n",
    "<center>interpreted as</center>\n",
    "$$ \\alpha_{new} < \\alpha$$\n",
    "\n",
    "so by this we achieve or goals\n",
    "\n",
    "similiarly for negative points\n",
    "\n",
    "$$ \\alpha_{new} > \\alpha$$\n"
   ]
  },
  {
   "cell_type": "markdown",
   "metadata": {},
   "source": [
    "### problems on perceptron leanring algorithims\n",
    "\n",
    "#### Question 1\n",
    "<img src=\"question1.png\">"
   ]
  },
  {
   "cell_type": "code",
   "execution_count": 150,
   "metadata": {},
   "outputs": [],
   "source": [
    "## formulation of upper questions in the programatic ways\n",
    "datasets = np.array([\n",
    "    [1,0,0,0,0],\n",
    "    [1,0,0,1,1],\n",
    "    [1,0,1,0,1],\n",
    "    [1,0,1,1,1],\n",
    "    [1,1,0,0,1],\n",
    "    [1,1,0,1,1],\n",
    "    [1,1,1,0,1],\n",
    "    [1,1,1,1,1],\n",
    "\n",
    "])\n",
    "weights = np.array([0,0,-1,2])"
   ]
  },
  {
   "cell_type": "code",
   "execution_count": 151,
   "metadata": {},
   "outputs": [],
   "source": [
    "def perceptron(datasets,weights,iterations):\n",
    "    print(datasets.shape)\n",
    "    for i in range(iterations):\n",
    "        #print(i)\n",
    "        prevweights = weights\n",
    "        for j in datasets:\n",
    "            X = j[0:len(j)-1]\n",
    "            Y= j[len(j)-1]\n",
    "            if Y==1 and np.dot(weights,X)<0:\n",
    "                print(np.dot(weights,X))\n",
    "                weights=weights+X\n",
    "                print(weights)\n",
    "            if Y==0 and np.dot(weights,X)>=0:\n",
    "                print(np.dot(weights,X))\n",
    "                weights=weights-X\n",
    "                print(weights)\n",
    "    return weights"
   ]
  },
  {
   "cell_type": "code",
   "execution_count": 152,
   "metadata": {},
   "outputs": [
    {
     "name": "stdout",
     "output_type": "stream",
     "text": [
      "(8, 5)\n",
      "0\n",
      "[-1  0 -1  2]\n",
      "-2\n",
      "[0 0 0 2]\n",
      "0\n",
      "[-1  0  0  2]\n",
      "-1\n",
      "[0 0 1 2]\n",
      "0\n",
      "[-1  0  1  2]\n",
      "-1\n",
      "[0 1 1 2]\n",
      "0\n",
      "[-1  1  1  2]\n"
     ]
    },
    {
     "data": {
      "text/plain": [
       "array([-1,  1,  1,  2])"
      ]
     },
     "execution_count": 152,
     "metadata": {},
     "output_type": "execute_result"
    }
   ],
   "source": [
    "perceptron(datasets,weights,10)"
   ]
  },
  {
   "cell_type": "code",
   "execution_count": 153,
   "metadata": {},
   "outputs": [
    {
     "name": "stdout",
     "output_type": "stream",
     "text": [
      "(8, 5)\n",
      "0\n",
      "[-1  0 -1  2]\n",
      "-2\n",
      "[0 0 0 2]\n",
      "0\n",
      "[-1  0  0  2]\n",
      "-1\n",
      "[0 0 1 2]\n",
      "0\n",
      "[-1  0  1  2]\n",
      "-1\n",
      "[0 1 1 2]\n",
      "0\n",
      "[-1  1  1  2]\n"
     ]
    },
    {
     "data": {
      "text/plain": [
       "array([-1,  1,  1,  2])"
      ]
     },
     "execution_count": 153,
     "metadata": {},
     "output_type": "execute_result"
    }
   ],
   "source": [
    "perceptron(datasets,weights,14)"
   ]
  },
  {
   "cell_type": "code",
   "execution_count": 154,
   "metadata": {},
   "outputs": [],
   "source": [
    "# so solution is Option B"
   ]
  },
  {
   "cell_type": "markdown",
   "metadata": {},
   "source": [
    "#### A Linearly Seprability Questions\n",
    "<img src=\"question2.png\">\n",
    "\n",
    "<a href=\"https://drive.google.com/file/d/1ecV07EkXsAXSbukW2c_gNSGVJhC8eiFX/view?usp=sharing\">Download datasets from here</a>"
   ]
  },
  {
   "cell_type": "code",
   "execution_count": 155,
   "metadata": {},
   "outputs": [],
   "source": [
    "import pandas as pd"
   ]
  },
  {
   "cell_type": "code",
   "execution_count": 158,
   "metadata": {},
   "outputs": [],
   "source": [
    "datasets = pd.read_csv(\"data.csv\")\n",
    "datasets = datasets.iloc[:,:].values"
   ]
  },
  {
   "cell_type": "code",
   "execution_count": 159,
   "metadata": {},
   "outputs": [
    {
     "data": {
      "text/plain": [
       "array([[  0.21512,   0.49609],\n",
       "       [ -0.31929,  -0.92646],\n",
       "       [  1.8542 ,  -1.0476 ],\n",
       "       ..., \n",
       "       [  9.2897 ,  10.518  ],\n",
       "       [  8.427  ,   9.0564 ],\n",
       "       [  8.0061 ,   7.5711 ]])"
      ]
     },
     "execution_count": 159,
     "metadata": {},
     "output_type": "execute_result"
    }
   ],
   "source": [
    "datasets"
   ]
  },
  {
   "cell_type": "code",
   "execution_count": 167,
   "metadata": {},
   "outputs": [
    {
     "data": {
      "image/png": "[encoded data removed]",
      "text/plain": [
       "<matplotlib.figure.Figure at 0x1c94f43e4e0>"
      ]
     },
     "metadata": {},
     "output_type": "display_data"
    }
   ],
   "source": [
    "X = datasets[:500]\n",
    "y = datasets[500:]\n",
    "plt.scatter(X[:,0],X[:,1])\n",
    "plt.scatter(y[:,0],y[:,1])\n",
    "\n",
    "plt.show()"
   ]
  },
  {
   "cell_type": "markdown",
   "metadata": {},
   "source": [
    "***\n",
    "This is looking clear from the datasets its both classes are linearly seprable .\n",
    "***"
   ]
  },
  {
   "cell_type": "code",
   "execution_count": null,
   "metadata": {},
   "outputs": [],
   "source": []
  }
 ],
 "metadata": {
  "kernelspec": {
   "display_name": "Python 3",
   "language": "python",
   "name": "python3"
  },
  "language_info": {
   "codemirror_mode": {
    "name": "ipython",
    "version": 3
   },
   "file_extension": ".py",
   "mimetype": "text/x-python",
   "name": "python",
   "nbconvert_exporter": "python",
   "pygments_lexer": "ipython3",
   "version": "3.6.4"
  }
 },
 "nbformat": 4,
 "nbformat_minor": 2
}
